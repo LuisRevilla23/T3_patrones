{
  "nbformat": 4,
  "nbformat_minor": 0,
  "metadata": {
    "colab": {
      "provenance": [],
      "toc_visible": true
    },
    "kernelspec": {
      "name": "python3",
      "display_name": "Python 3"
    },
    "language_info": {
      "name": "python"
    }
  },
  "cells": [
    {
      "cell_type": "markdown",
      "source": [
        "$$\\Large \\textit{C0708 | Reconocimiento de Patrones}$$\n",
        "\n",
        "$$\\large \\textbf{Ejercicio práctico | Visualización y pre-procesamiento de datos}$$\n",
        "\n",
        "_Profesor: Moisés Meza, Jesus Alvarado_\n",
        "\n",
        "_Alumnos: Luis Revilla, Sebastian Ríos, Emilio Ochoa_"
      ],
      "metadata": {
        "id": "L4Sen7YDJIpL"
      }
    },
    {
      "cell_type": "markdown",
      "source": [
        "**PAF Challenge database:**\n",
        "\n",
        "Esta base de datos de registros de ECG de dos canales se ha creado para su uso en el Computers in Cardiology Challenge 2001, un concurso abierto con el objetivo de desarrollar métodos automatizados para predecir la fibrilación auricular paroxística (FAP). \n",
        "\n",
        "\n",
        "\n",
        "\n",
        "_Moody GB, Goldberger AL, McClennen S, Swiryn SP. Predicting the Onset of Paroxysmal Atrial Fibrillation: The Computers in Cardiology Challenge 2001. Computers in Cardiology 28:113-116 (2001)._"
      ],
      "metadata": {
        "id": "IR8YtEnE5kYG"
      }
    },
    {
      "cell_type": "markdown",
      "source": [
        "# Data Acquisition"
      ],
      "metadata": {
        "id": "PLbBmmlg5vcf"
      }
    },
    {
      "cell_type": "code",
      "source": [
        "!pip -q install lazypredict\n",
        "#Installamos lazy predict, para comparar diversas herramientas de procesamiento \n",
        "#Y analizar junto a nuestra observacion del data set, cual seria el analisis optimo\n",
        "#Para obtener los mejores resultados"
      ],
      "metadata": {
        "id": "K8hsMiLVlsvl"
      },
      "execution_count": null,
      "outputs": []
    },
    {
      "cell_type": "code",
      "source": [
        "!pip install wfdb --upgrade\n",
        "!pip install biosppy\n",
        "#Para poder observar los datos .hea .gea .ada \n",
        "#Incluidos en la carpeta de datos\n"
      ],
      "metadata": {
        "colab": {
          "base_uri": "https://localhost:8080/"
        },
        "id": "sqYWRy-oJelK",
        "outputId": "77c929e4-aa75-42ca-cadc-51ea140d1059"
      },
      "execution_count": null,
      "outputs": [
        {
          "output_type": "stream",
          "name": "stdout",
          "text": [
            "Looking in indexes: https://pypi.org/simple, https://us-python.pkg.dev/colab-wheels/public/simple/\n",
            "Requirement already satisfied: wfdb in /usr/local/lib/python3.10/dist-packages (4.1.1)\n",
            "Requirement already satisfied: matplotlib>=3.2.2 in /usr/local/lib/python3.10/dist-packages (from wfdb) (3.7.1)\n",
            "Requirement already satisfied: numpy>=1.10.1 in /usr/local/lib/python3.10/dist-packages (from wfdb) (1.22.4)\n",
            "Requirement already satisfied: SoundFile>=0.10.0 in /usr/local/lib/python3.10/dist-packages (from wfdb) (0.12.1)\n",
            "Requirement already satisfied: scipy>=1.0.0 in /usr/local/lib/python3.10/dist-packages (from wfdb) (1.10.1)\n",
            "Requirement already satisfied: requests>=2.8.1 in /usr/local/lib/python3.10/dist-packages (from wfdb) (2.27.1)\n",
            "Requirement already satisfied: pandas>=1.3.0 in /usr/local/lib/python3.10/dist-packages (from wfdb) (1.5.3)\n",
            "Requirement already satisfied: kiwisolver>=1.0.1 in /usr/local/lib/python3.10/dist-packages (from matplotlib>=3.2.2->wfdb) (1.4.4)\n",
            "Requirement already satisfied: packaging>=20.0 in /usr/local/lib/python3.10/dist-packages (from matplotlib>=3.2.2->wfdb) (23.1)\n",
            "Requirement already satisfied: pyparsing>=2.3.1 in /usr/local/lib/python3.10/dist-packages (from matplotlib>=3.2.2->wfdb) (3.0.9)\n",
            "Requirement already satisfied: cycler>=0.10 in /usr/local/lib/python3.10/dist-packages (from matplotlib>=3.2.2->wfdb) (0.11.0)\n",
            "Requirement already satisfied: pillow>=6.2.0 in /usr/local/lib/python3.10/dist-packages (from matplotlib>=3.2.2->wfdb) (8.4.0)\n",
            "Requirement already satisfied: python-dateutil>=2.7 in /usr/local/lib/python3.10/dist-packages (from matplotlib>=3.2.2->wfdb) (2.8.2)\n",
            "Requirement already satisfied: fonttools>=4.22.0 in /usr/local/lib/python3.10/dist-packages (from matplotlib>=3.2.2->wfdb) (4.39.3)\n",
            "Requirement already satisfied: contourpy>=1.0.1 in /usr/local/lib/python3.10/dist-packages (from matplotlib>=3.2.2->wfdb) (1.0.7)\n",
            "Requirement already satisfied: pytz>=2020.1 in /usr/local/lib/python3.10/dist-packages (from pandas>=1.3.0->wfdb) (2022.7.1)\n",
            "Requirement already satisfied: charset-normalizer~=2.0.0 in /usr/local/lib/python3.10/dist-packages (from requests>=2.8.1->wfdb) (2.0.12)\n",
            "Requirement already satisfied: certifi>=2017.4.17 in /usr/local/lib/python3.10/dist-packages (from requests>=2.8.1->wfdb) (2022.12.7)\n",
            "Requirement already satisfied: idna<4,>=2.5 in /usr/local/lib/python3.10/dist-packages (from requests>=2.8.1->wfdb) (3.4)\n",
            "Requirement already satisfied: urllib3<1.27,>=1.21.1 in /usr/local/lib/python3.10/dist-packages (from requests>=2.8.1->wfdb) (1.26.15)\n",
            "Requirement already satisfied: cffi>=1.0 in /usr/local/lib/python3.10/dist-packages (from SoundFile>=0.10.0->wfdb) (1.15.1)\n",
            "Requirement already satisfied: pycparser in /usr/local/lib/python3.10/dist-packages (from cffi>=1.0->SoundFile>=0.10.0->wfdb) (2.21)\n",
            "Requirement already satisfied: six>=1.5 in /usr/local/lib/python3.10/dist-packages (from python-dateutil>=2.7->matplotlib>=3.2.2->wfdb) (1.16.0)\n",
            "Looking in indexes: https://pypi.org/simple, https://us-python.pkg.dev/colab-wheels/public/simple/\n",
            "Collecting biosppy\n",
            "  Downloading biosppy-1.0.0-py2.py3-none-any.whl (106 kB)\n",
            "\u001b[2K     \u001b[90m━━━━━━━━━━━━━━━━━━━━━━━━━━━━━━━━━━━━━━━\u001b[0m \u001b[32m107.0/107.0 kB\u001b[0m \u001b[31m3.4 MB/s\u001b[0m eta \u001b[36m0:00:00\u001b[0m\n",
            "\u001b[?25hRequirement already satisfied: scipy in /usr/local/lib/python3.10/dist-packages (from biosppy) (1.10.1)\n",
            "Requirement already satisfied: scikit-learn in /usr/local/lib/python3.10/dist-packages (from biosppy) (1.2.2)\n",
            "Collecting bidict\n",
            "  Downloading bidict-0.22.1-py3-none-any.whl (35 kB)\n",
            "Requirement already satisfied: opencv-python in /usr/local/lib/python3.10/dist-packages (from biosppy) (4.7.0.72)\n",
            "Requirement already satisfied: six in /usr/local/lib/python3.10/dist-packages (from biosppy) (1.16.0)\n",
            "Collecting shortuuid\n",
            "  Downloading shortuuid-1.0.11-py3-none-any.whl (10 kB)\n",
            "Requirement already satisfied: numpy in /usr/local/lib/python3.10/dist-packages (from biosppy) (1.22.4)\n",
            "Requirement already satisfied: joblib in /usr/local/lib/python3.10/dist-packages (from biosppy) (1.2.0)\n",
            "Requirement already satisfied: matplotlib in /usr/local/lib/python3.10/dist-packages (from biosppy) (3.7.1)\n",
            "Requirement already satisfied: h5py in /usr/local/lib/python3.10/dist-packages (from biosppy) (3.8.0)\n",
            "Requirement already satisfied: python-dateutil>=2.7 in /usr/local/lib/python3.10/dist-packages (from matplotlib->biosppy) (2.8.2)\n",
            "Requirement already satisfied: kiwisolver>=1.0.1 in /usr/local/lib/python3.10/dist-packages (from matplotlib->biosppy) (1.4.4)\n",
            "Requirement already satisfied: packaging>=20.0 in /usr/local/lib/python3.10/dist-packages (from matplotlib->biosppy) (23.1)\n",
            "Requirement already satisfied: pyparsing>=2.3.1 in /usr/local/lib/python3.10/dist-packages (from matplotlib->biosppy) (3.0.9)\n",
            "Requirement already satisfied: cycler>=0.10 in /usr/local/lib/python3.10/dist-packages (from matplotlib->biosppy) (0.11.0)\n",
            "Requirement already satisfied: contourpy>=1.0.1 in /usr/local/lib/python3.10/dist-packages (from matplotlib->biosppy) (1.0.7)\n",
            "Requirement already satisfied: pillow>=6.2.0 in /usr/local/lib/python3.10/dist-packages (from matplotlib->biosppy) (8.4.0)\n",
            "Requirement already satisfied: fonttools>=4.22.0 in /usr/local/lib/python3.10/dist-packages (from matplotlib->biosppy) (4.39.3)\n",
            "Requirement already satisfied: threadpoolctl>=2.0.0 in /usr/local/lib/python3.10/dist-packages (from scikit-learn->biosppy) (3.1.0)\n",
            "Installing collected packages: shortuuid, bidict, biosppy\n",
            "Successfully installed bidict-0.22.1 biosppy-1.0.0 shortuuid-1.0.11\n"
          ]
        }
      ]
    },
    {
      "cell_type": "code",
      "source": [
        "#Importamos algunas librerias basicas\n",
        "import numpy as np\n",
        "import pandas as pd\n",
        "import matplotlib.pyplot as plt\n",
        "import seaborn as sns\n",
        "import biosppy\n",
        "import wfdb"
      ],
      "metadata": {
        "id": "aQ_mrPMvJKak"
      },
      "execution_count": null,
      "outputs": []
    },
    {
      "cell_type": "code",
      "source": [
        "!wget -r -N -c -np https://physionet.org/files/afpdb/1.0.0/\n",
        "#Jalamos la informacion desde physionet\n",
        "#Dado que los 2gb de inf. podrian complicar la replicabilidad del codigo"
      ],
      "metadata": {
        "id": "u5a45TjxBk_L"
      },
      "execution_count": null,
      "outputs": []
    },
    {
      "cell_type": "code",
      "source": [
        "#Cambiamos el directorio de trabajo de este notebook\n",
        "%cd /content/physionet.org/files/afpdb/1.0.0/"
      ],
      "metadata": {
        "colab": {
          "base_uri": "https://localhost:8080/"
        },
        "id": "pabSJrNFMjcO",
        "outputId": "c3c0725b-2853-4060-8e30-025230ac2a62"
      },
      "execution_count": null,
      "outputs": [
        {
          "output_type": "stream",
          "name": "stdout",
          "text": [
            "/content/physionet.org/files/afpdb/1.0.0\n"
          ]
        }
      ]
    },
    {
      "cell_type": "code",
      "source": [
        "#Apreciamos como se ve una señal ECG desde la base de datos, que se comporta \n",
        "#Como un array\n",
        "\n",
        "registro = wfdb.rdrecord('n01')\n",
        "ecg = registro.p_signal.flatten()"
      ],
      "metadata": {
        "id": "yf_Y0SjoJYJS"
      },
      "execution_count": null,
      "outputs": []
    },
    {
      "cell_type": "code",
      "source": [
        "ecg\n",
        "#Vemos un ejemplo de una senal ecg muestra usando la libreria wfdb"
      ],
      "metadata": {
        "colab": {
          "base_uri": "https://localhost:8080/"
        },
        "id": "D3IB5-hQMqBP",
        "outputId": "2a4913f1-875c-410c-befe-8e34bc16fd1e"
      },
      "execution_count": null,
      "outputs": [
        {
          "output_type": "execute_result",
          "data": {
            "text/plain": [
              "array([-1.5000e-02,  0.0000e+00, -1.5000e-02, ...,  5.0000e-03,\n",
              "       -1.0285e+01, -1.0285e+01])"
            ]
          },
          "metadata": {},
          "execution_count": 31
        }
      ]
    },
    {
      "cell_type": "markdown",
      "source": [
        "# Preprocessing"
      ],
      "metadata": {
        "id": "NCcGNIZp6UX2"
      }
    },
    {
      "cell_type": "markdown",
      "source": [
        "## Feature engineering"
      ],
      "metadata": {
        "id": "Wea9AH7o6XuW"
      }
    },
    {
      "cell_type": "code",
      "source": [
        "import biosppy.signals.ecg as ecg\n",
        "\n",
        "ruta_datos = '/content/physionet.org/files/afpdb/1.0.0/'\n",
        "af_patients = ['n{:02d}'.format(i) for i in range(1, 50)]\n",
        "no_af_patients = ['p{:02d}'.format(i) for i in range(1, 50)]\n",
        "#Clasificamos a los pacientes diferencialos por fibrilacion\n",
        "#Analizando el dataset vimos que N hace referencia a tener y P a no tener\n",
        "\n",
        "pacientes = af_patients + no_af_patients\n",
        "#Unimos y tenemos el dataset de pacientes\n",
        "\n",
        "# Crear arrays para las características y las etiquetas, dado que no tenian originalmente\n",
        "caracteristicas = []\n",
        "etiquetas = []\n",
        "\n",
        "# Iterar sobre los pacientes\n",
        "for paciente in pacientes:\n",
        "    record = wfdb.rdrecord(ruta_datos + paciente)\n",
        "    annotation = wfdb.rdann(ruta_datos + paciente, 'qrs')\n",
        "    \n",
        "    # Extraer características relevantes del ECG con Biosppy\n",
        "    out = ecg.ecg(signal=record.p_signal[:, 0], sampling_rate=record.fs, show=False)\n",
        "    mean_hr = np.mean(out['heart_rate'])\n",
        "    std_hr = np.std(out['heart_rate'])\n",
        "    mean_rri = np.mean(np.diff(annotation.sample) / record.fs)\n",
        "    std_rri = np.std(np.diff(annotation.sample) / record.fs)\n",
        "    \n",
        "    # Clasificar al paciente según si tiene fibrilación auricular o no\n",
        "    if 'p' in paciente:\n",
        "        etiqueta = 1 # Paciente con fibrilación auricular\n",
        "    else:\n",
        "        etiqueta = 0 # Paciente sin fibrilación auricular\n",
        "    \n",
        "    # Añadir características y etiquetas a los arrays\n",
        "    caracteristicas.append([mean_hr, std_hr, mean_rri, std_rri])\n",
        "    etiquetas.append(etiqueta)\n",
        "    \n",
        "# Convertir características y etiquetas a arrays de Numpy\n",
        "caracteristicas = np.array(caracteristicas)\n",
        "etiquetas = np.array(etiquetas)\n",
        "\n",
        "\n"
      ],
      "metadata": {
        "id": "Jv1oiYBuPPSu"
      },
      "execution_count": null,
      "outputs": []
    },
    {
      "cell_type": "code",
      "source": [
        "df = pd.DataFrame(caracteristicas, columns=['heart_rate', 'std_hr', 'mean_rri', 'std_rri'])\n",
        "df['atr'] = etiquetas #Desiganmos una nueva columna con las etiquetas hayadas anteriormente"
      ],
      "metadata": {
        "id": "PwAIdXWwaDuw"
      },
      "execution_count": null,
      "outputs": []
    },
    {
      "cell_type": "markdown",
      "source": [
        "Dataframe obtenido: contiene frecuencia cardiaca, desviación estándar, promedio de intervalo QRS, etc."
      ],
      "metadata": {
        "id": "VXq9suc07Lg-"
      }
    },
    {
      "cell_type": "code",
      "source": [
        "df.head(10)"
      ],
      "metadata": {
        "colab": {
          "base_uri": "https://localhost:8080/",
          "height": 363
        },
        "id": "Smj64uXcaFh4",
        "outputId": "0ef6441b-bd98-4648-888c-5aaccbfd095d"
      },
      "execution_count": null,
      "outputs": [
        {
          "output_type": "execute_result",
          "data": {
            "text/plain": [
              "   heart_rate     std_hr  mean_rri   std_rri  atr\n",
              "0   92.584966   4.199534  0.649633  0.034030    0\n",
              "1   81.844107   3.458647  0.734467  0.031912    0\n",
              "2   83.179694   4.407431  0.721793  0.067926    0\n",
              "3   84.570249   5.565045  0.716020  0.093290    0\n",
              "4  107.803736  17.937889  0.572350  0.095464    0\n",
              "5  102.458644  14.429032  0.598885  0.095308    0\n",
              "6   59.669976   5.146921  1.017521  0.032123    0\n",
              "7   62.525106   0.439381  0.959683  0.008178    0\n",
              "8   93.879684   5.140459  0.632939  0.073844    0\n",
              "9   76.926002   5.384319  0.782469  0.067856    0"
            ],
            "text/html": [
              "\n",
              "  <div id=\"df-b96da83e-8e0a-4265-9ddc-c7eff94db3d9\">\n",
              "    <div class=\"colab-df-container\">\n",
              "      <div>\n",
              "<style scoped>\n",
              "    .dataframe tbody tr th:only-of-type {\n",
              "        vertical-align: middle;\n",
              "    }\n",
              "\n",
              "    .dataframe tbody tr th {\n",
              "        vertical-align: top;\n",
              "    }\n",
              "\n",
              "    .dataframe thead th {\n",
              "        text-align: right;\n",
              "    }\n",
              "</style>\n",
              "<table border=\"1\" class=\"dataframe\">\n",
              "  <thead>\n",
              "    <tr style=\"text-align: right;\">\n",
              "      <th></th>\n",
              "      <th>heart_rate</th>\n",
              "      <th>std_hr</th>\n",
              "      <th>mean_rri</th>\n",
              "      <th>std_rri</th>\n",
              "      <th>atr</th>\n",
              "    </tr>\n",
              "  </thead>\n",
              "  <tbody>\n",
              "    <tr>\n",
              "      <th>0</th>\n",
              "      <td>92.584966</td>\n",
              "      <td>4.199534</td>\n",
              "      <td>0.649633</td>\n",
              "      <td>0.034030</td>\n",
              "      <td>0</td>\n",
              "    </tr>\n",
              "    <tr>\n",
              "      <th>1</th>\n",
              "      <td>81.844107</td>\n",
              "      <td>3.458647</td>\n",
              "      <td>0.734467</td>\n",
              "      <td>0.031912</td>\n",
              "      <td>0</td>\n",
              "    </tr>\n",
              "    <tr>\n",
              "      <th>2</th>\n",
              "      <td>83.179694</td>\n",
              "      <td>4.407431</td>\n",
              "      <td>0.721793</td>\n",
              "      <td>0.067926</td>\n",
              "      <td>0</td>\n",
              "    </tr>\n",
              "    <tr>\n",
              "      <th>3</th>\n",
              "      <td>84.570249</td>\n",
              "      <td>5.565045</td>\n",
              "      <td>0.716020</td>\n",
              "      <td>0.093290</td>\n",
              "      <td>0</td>\n",
              "    </tr>\n",
              "    <tr>\n",
              "      <th>4</th>\n",
              "      <td>107.803736</td>\n",
              "      <td>17.937889</td>\n",
              "      <td>0.572350</td>\n",
              "      <td>0.095464</td>\n",
              "      <td>0</td>\n",
              "    </tr>\n",
              "    <tr>\n",
              "      <th>5</th>\n",
              "      <td>102.458644</td>\n",
              "      <td>14.429032</td>\n",
              "      <td>0.598885</td>\n",
              "      <td>0.095308</td>\n",
              "      <td>0</td>\n",
              "    </tr>\n",
              "    <tr>\n",
              "      <th>6</th>\n",
              "      <td>59.669976</td>\n",
              "      <td>5.146921</td>\n",
              "      <td>1.017521</td>\n",
              "      <td>0.032123</td>\n",
              "      <td>0</td>\n",
              "    </tr>\n",
              "    <tr>\n",
              "      <th>7</th>\n",
              "      <td>62.525106</td>\n",
              "      <td>0.439381</td>\n",
              "      <td>0.959683</td>\n",
              "      <td>0.008178</td>\n",
              "      <td>0</td>\n",
              "    </tr>\n",
              "    <tr>\n",
              "      <th>8</th>\n",
              "      <td>93.879684</td>\n",
              "      <td>5.140459</td>\n",
              "      <td>0.632939</td>\n",
              "      <td>0.073844</td>\n",
              "      <td>0</td>\n",
              "    </tr>\n",
              "    <tr>\n",
              "      <th>9</th>\n",
              "      <td>76.926002</td>\n",
              "      <td>5.384319</td>\n",
              "      <td>0.782469</td>\n",
              "      <td>0.067856</td>\n",
              "      <td>0</td>\n",
              "    </tr>\n",
              "  </tbody>\n",
              "</table>\n",
              "</div>\n",
              "      <button class=\"colab-df-convert\" onclick=\"convertToInteractive('df-b96da83e-8e0a-4265-9ddc-c7eff94db3d9')\"\n",
              "              title=\"Convert this dataframe to an interactive table.\"\n",
              "              style=\"display:none;\">\n",
              "        \n",
              "  <svg xmlns=\"http://www.w3.org/2000/svg\" height=\"24px\"viewBox=\"0 0 24 24\"\n",
              "       width=\"24px\">\n",
              "    <path d=\"M0 0h24v24H0V0z\" fill=\"none\"/>\n",
              "    <path d=\"M18.56 5.44l.94 2.06.94-2.06 2.06-.94-2.06-.94-.94-2.06-.94 2.06-2.06.94zm-11 1L8.5 8.5l.94-2.06 2.06-.94-2.06-.94L8.5 2.5l-.94 2.06-2.06.94zm10 10l.94 2.06.94-2.06 2.06-.94-2.06-.94-.94-2.06-.94 2.06-2.06.94z\"/><path d=\"M17.41 7.96l-1.37-1.37c-.4-.4-.92-.59-1.43-.59-.52 0-1.04.2-1.43.59L10.3 9.45l-7.72 7.72c-.78.78-.78 2.05 0 2.83L4 21.41c.39.39.9.59 1.41.59.51 0 1.02-.2 1.41-.59l7.78-7.78 2.81-2.81c.8-.78.8-2.07 0-2.86zM5.41 20L4 18.59l7.72-7.72 1.47 1.35L5.41 20z\"/>\n",
              "  </svg>\n",
              "      </button>\n",
              "      \n",
              "  <style>\n",
              "    .colab-df-container {\n",
              "      display:flex;\n",
              "      flex-wrap:wrap;\n",
              "      gap: 12px;\n",
              "    }\n",
              "\n",
              "    .colab-df-convert {\n",
              "      background-color: #E8F0FE;\n",
              "      border: none;\n",
              "      border-radius: 50%;\n",
              "      cursor: pointer;\n",
              "      display: none;\n",
              "      fill: #1967D2;\n",
              "      height: 32px;\n",
              "      padding: 0 0 0 0;\n",
              "      width: 32px;\n",
              "    }\n",
              "\n",
              "    .colab-df-convert:hover {\n",
              "      background-color: #E2EBFA;\n",
              "      box-shadow: 0px 1px 2px rgba(60, 64, 67, 0.3), 0px 1px 3px 1px rgba(60, 64, 67, 0.15);\n",
              "      fill: #174EA6;\n",
              "    }\n",
              "\n",
              "    [theme=dark] .colab-df-convert {\n",
              "      background-color: #3B4455;\n",
              "      fill: #D2E3FC;\n",
              "    }\n",
              "\n",
              "    [theme=dark] .colab-df-convert:hover {\n",
              "      background-color: #434B5C;\n",
              "      box-shadow: 0px 1px 3px 1px rgba(0, 0, 0, 0.15);\n",
              "      filter: drop-shadow(0px 1px 2px rgba(0, 0, 0, 0.3));\n",
              "      fill: #FFFFFF;\n",
              "    }\n",
              "  </style>\n",
              "\n",
              "      <script>\n",
              "        const buttonEl =\n",
              "          document.querySelector('#df-b96da83e-8e0a-4265-9ddc-c7eff94db3d9 button.colab-df-convert');\n",
              "        buttonEl.style.display =\n",
              "          google.colab.kernel.accessAllowed ? 'block' : 'none';\n",
              "\n",
              "        async function convertToInteractive(key) {\n",
              "          const element = document.querySelector('#df-b96da83e-8e0a-4265-9ddc-c7eff94db3d9');\n",
              "          const dataTable =\n",
              "            await google.colab.kernel.invokeFunction('convertToInteractive',\n",
              "                                                     [key], {});\n",
              "          if (!dataTable) return;\n",
              "\n",
              "          const docLinkHtml = 'Like what you see? Visit the ' +\n",
              "            '<a target=\"_blank\" href=https://colab.research.google.com/notebooks/data_table.ipynb>data table notebook</a>'\n",
              "            + ' to learn more about interactive tables.';\n",
              "          element.innerHTML = '';\n",
              "          dataTable['output_type'] = 'display_data';\n",
              "          await google.colab.output.renderOutput(dataTable, element);\n",
              "          const docLink = document.createElement('div');\n",
              "          docLink.innerHTML = docLinkHtml;\n",
              "          element.appendChild(docLink);\n",
              "        }\n",
              "      </script>\n",
              "    </div>\n",
              "  </div>\n",
              "  "
            ]
          },
          "metadata": {},
          "execution_count": 44
        }
      ]
    },
    {
      "cell_type": "code",
      "source": [
        "df.columns #Observamos las nuevas columnas creadas"
      ],
      "metadata": {
        "colab": {
          "base_uri": "https://localhost:8080/"
        },
        "id": "9sGV1FLYpdAN",
        "outputId": "d2cedf65-034b-403e-e7e6-0498af3fd5ca"
      },
      "execution_count": null,
      "outputs": [
        {
          "output_type": "execute_result",
          "data": {
            "text/plain": [
              "Index(['Mean Heart Rate', 'Std Heart Rate', 'Mean RRI', 'Std RRI', 'Cluster'], dtype='object')"
            ]
          },
          "metadata": {},
          "execution_count": 68
        }
      ]
    },
    {
      "cell_type": "markdown",
      "source": [
        "# Exploratory Data Analysis"
      ],
      "metadata": {
        "id": "clsN4jTu7Ziv"
      }
    },
    {
      "cell_type": "code",
      "source": [
        "# Histograma para cada variable en la lista respecto a la variable objetivo\n",
        "\n",
        "fig, axs = plt.subplots(nrows=4, ncols=1, figsize=(5,10))\n",
        "for i, var in enumerate(df.drop('Cluster', axis=1).columns):\n",
        "    axs[i].hist(df[df['Cluster']==0][var], alpha=0.5, bins=20, label='No AF History', color='blue')\n",
        "    axs[i].hist(df[df['Cluster']==1][var], alpha=0.5, bins=20, label='AF History', color='red')\n",
        "    axs[i].set_title(var, fontsize=12, weight='bold')\n",
        "    axs[i].set_xlabel('Value', fontsize=10, weight='bold')\n",
        "    axs[i].set_ylabel('Frequency', fontsize=10, weight='bold')\n",
        "    axs[i].legend(loc='upper right')\n",
        "    \n",
        "plt.tight_layout()\n",
        "plt.show()"
      ],
      "metadata": {
        "colab": {
          "base_uri": "https://localhost:8080/",
          "height": 1000
        },
        "id": "D1FP7puYoIhR",
        "outputId": "b5709fa6-c911-45dd-87ae-a6d0253cfcfe"
      },
      "execution_count": null,
      "outputs": [
        {
          "output_type": "display_data",
          "data": {
            "text/plain": [
              "<Figure size 500x1000 with 4 Axes>"
            ],
            "image/png": "[encoded data removed]"
          },
          "metadata": {}
        }
      ]
    },
    {
      "cell_type": "markdown",
      "source": [
        "Vemos que no existe una distribución normal en todas las variables, y teniendo en cuenta la presencia de outliers, optamos por un Robust Scaler para el escalamiento de los datos."
      ],
      "metadata": {
        "id": "dGsqkB9z7e3N"
      }
    },
    {
      "cell_type": "code",
      "source": [
        "# Boxplot para cada variable en la lista respecto a la variable objetivo\n",
        "\n",
        "fig, axs = plt.subplots(nrows=4, ncols=1, figsize=(5,10))\n",
        "for i, var in enumerate(df.drop('Cluster', axis=1).columns):\n",
        "    axs[i].boxplot([df[df['Cluster']==0][var], df[df['Cluster']==1][var]], \n",
        "                   labels=['No AF History', 'AF History'], \n",
        "                   showfliers=False, \n",
        "                   boxprops=dict(linewidth=2),\n",
        "                   whiskerprops=dict(linewidth=2),\n",
        "                   capprops=dict(linewidth=2),\n",
        "                   medianprops=dict(linewidth=2))\n",
        "    axs[i].set_title(var, fontsize=12, weight='bold')\n",
        "    axs[i].set_ylabel('Value', fontsize=10, weight='bold')\n",
        "    \n",
        "plt.tight_layout()\n",
        "plt.show()\n"
      ],
      "metadata": {
        "colab": {
          "base_uri": "https://localhost:8080/",
          "height": 1000
        },
        "id": "OStSYklwq-w3",
        "outputId": "f721739a-26a7-4799-9ad5-8cbc8bbc1afa"
      },
      "execution_count": null,
      "outputs": [
        {
          "output_type": "display_data",
          "data": {
            "text/plain": [
              "<Figure size 500x1000 with 4 Axes>"
            ],
            "image/png": "[encoded data removed]"
          },
          "metadata": {}
        }
      ]
    },
    {
      "cell_type": "code",
      "source": [
        "etiquetas"
      ],
      "metadata": {
        "id": "-fVaYtz1Vp64"
      },
      "execution_count": null,
      "outputs": []
    },
    {
      "cell_type": "code",
      "source": [
        "caracteristicas"
      ],
      "metadata": {
        "id": "cxpgmZFVV4KW"
      },
      "execution_count": null,
      "outputs": []
    },
    {
      "cell_type": "markdown",
      "source": [
        "# Extra: Revisión con modelos de aprendizaje automático no supervisado"
      ],
      "metadata": {
        "id": "Bug8R9kN70H_"
      }
    },
    {
      "cell_type": "markdown",
      "source": [
        "Consideramos la opción de un aprendizaje no supervisado, a ver si pudiese encontrar clusters entre los pacientes sin historial de Fibrilación Auricular, y los que sí tienen antecedentes."
      ],
      "metadata": {
        "id": "jdFOQqEx747M"
      }
    },
    {
      "cell_type": "code",
      "source": [
        "from sklearn.cluster import KMeans\n",
        "from sklearn.utils import shuffle\n",
        "from sklearn.pipeline import make_pipeline\n",
        "from sklearn.preprocessing import StandardScaler\n",
        "\n",
        "# Randomizar los datos\n",
        "caracteristicas, etiquetas = shuffle(caracteristicas, etiquetas, random_state=0)\n",
        "\n",
        "# Crear pipeline para escalar los datos\n",
        "escalador = StandardScaler()\n",
        "pipeline = make_pipeline(escalador, KMeans(n_clusters=2, random_state=0))\n",
        "\n",
        "# Realizar K-means clustering con k=2\n",
        "pipeline.fit(caracteristicas)\n",
        "\n",
        "# Obtener las etiquetas predichas\n",
        "etiquetas_predichas = pipeline.predict(caracteristicas)\n",
        "\n",
        "# Obtener los centroides de cada cluster\n",
        "centroides = pipeline.named_steps['kmeans'].cluster_centers_\n",
        "\n",
        "# Obtener los pacientes que pertenecen a cada cluster\n",
        "cluster_0 = []\n",
        "cluster_1 = []\n",
        "for i, etiqueta in enumerate(etiquetas_predichas):\n",
        "    if etiqueta == 0:\n",
        "        cluster_0.append(pacientes[i])\n",
        "    else:\n",
        "        cluster_1.append(pacientes[i])\n",
        "\n",
        "# Imprimir los resultados\n",
        "print(\"Cluster 0: \", cluster_0)\n",
        "print(\"Cluster 1: \", cluster_1)\n"
      ],
      "metadata": {
        "colab": {
          "base_uri": "https://localhost:8080/"
        },
        "id": "Wqb64aurWDEV",
        "outputId": "80cc810f-ca8b-4dd7-d5ab-35e255245ea3"
      },
      "execution_count": null,
      "outputs": [
        {
          "output_type": "stream",
          "name": "stdout",
          "text": [
            "Cluster 0:  ['n01', 'n06', 'n08', 'n10', 'n12', 'n15', 'n16', 'n17', 'n21', 'n22', 'n24', 'n32', 'n33', 'n34', 'n36', 'n39', 'n40', 'n41', 'n46', 'n47', 'n49', 'p01', 'p02', 'p04', 'p05', 'p06', 'p09', 'p10', 'p11', 'p12', 'p13', 'p15', 'p17', 'p19', 'p20', 'p27', 'p28', 'p31', 'p32', 'p37', 'p40', 'p42', 'p46']\n",
            "Cluster 1:  ['n02', 'n03', 'n04', 'n05', 'n07', 'n09', 'n11', 'n13', 'n14', 'n18', 'n19', 'n20', 'n23', 'n25', 'n26', 'n27', 'n28', 'n29', 'n30', 'n31', 'n35', 'n37', 'n38', 'n42', 'n43', 'n44', 'n45', 'n48', 'p03', 'p07', 'p08', 'p14', 'p16', 'p18', 'p21', 'p22', 'p23', 'p24', 'p25', 'p26', 'p29', 'p30', 'p33', 'p34', 'p35', 'p36', 'p38', 'p39', 'p41', 'p43', 'p44', 'p45', 'p47', 'p48', 'p49']\n"
          ]
        },
        {
          "output_type": "stream",
          "name": "stderr",
          "text": [
            "/usr/local/lib/python3.10/dist-packages/sklearn/cluster/_kmeans.py:870: FutureWarning: The default value of `n_init` will change from 10 to 'auto' in 1.4. Set the value of `n_init` explicitly to suppress the warning\n",
            "  warnings.warn(\n"
          ]
        }
      ]
    },
    {
      "cell_type": "markdown",
      "source": [
        "Los resultados no son alentadores, probamos visualizando la data a ver si hay algún agrupamiento"
      ],
      "metadata": {
        "id": "40ONDcpW8CMd"
      }
    },
    {
      "cell_type": "code",
      "source": [
        "import seaborn as sns\n",
        "import matplotlib as plt\n",
        "\n",
        "# Convertir los datos a un DataFrame de Pandas y agregar etiquetas de cluster\n",
        "df = pd.DataFrame(data=caracteristicas, columns=['Mean Heart Rate', 'Std Heart Rate', 'Mean RRI', 'Std RRI'])\n",
        "df['Cluster'] = etiquetas\n",
        "\n",
        "# Graficar los puntos en el espacio de características, colorean los puntos según su etiqueta de cluster\n",
        "sns.scatterplot(data=df, x='Mean Heart Rate', y='Std Heart Rate', hue='Cluster', palette=['blue', 'red'])\n",
        "\n",
        "# Agregar título\n",
        "plt.pyplot.title('K-means clustering de pacientes con y sin fibrilación auricular')\n",
        "\n",
        "# Mostrar la figura\n",
        "plt.pyplot.show()\n"
      ],
      "metadata": {
        "colab": {
          "base_uri": "https://localhost:8080/",
          "height": 472
        },
        "id": "hTg-tnDnX4S6",
        "outputId": "5e92fab0-1fc7-43a1-c233-12e913477d76"
      },
      "execution_count": null,
      "outputs": [
        {
          "output_type": "display_data",
          "data": {
            "text/plain": [
              "<Figure size 640x480 with 1 Axes>"
            ],
            "image/png": "[encoded data removed]"
          },
          "metadata": {}
        }
      ]
    },
    {
      "cell_type": "markdown",
      "source": [
        "Teniendo en cuenta los resultados, al menos por ahora, no es el mejor camino aplicar un modelo de aprendizaje no supervisado."
      ],
      "metadata": {
        "id": "Cysbd4_H8J_N"
      }
    },
    {
      "cell_type": "markdown",
      "source": [
        "# Modelo supervisado con pipeline"
      ],
      "metadata": {
        "id": "oEdwXguB9S2u"
      }
    },
    {
      "cell_type": "markdown",
      "source": [
        "Comparativa de Logistic Regression, Decision Tree y Random Forest"
      ],
      "metadata": {
        "id": "ZaeDB0zs9c26"
      }
    },
    {
      "cell_type": "code",
      "source": [
        "from sklearn.model_selection import train_test_split\n",
        "from sklearn.linear_model import LogisticRegression\n",
        "from sklearn.tree import DecisionTreeClassifier\n",
        "from sklearn.ensemble import RandomForestClassifier\n",
        "from sklearn.preprocessing import RobustScaler\n",
        "import xgboost as xgb\n",
        "\n",
        "# Dividir los datos en conjunto de entrenamiento y prueba\n",
        "X_train, X_test, y_train, y_test = train_test_split(caracteristicas, etiquetas, test_size=0.2, random_state=0)\n",
        "\n",
        "# Crear pipeline para escalar los datos y aplicar el modelo de Regresión Logística\n",
        "pipe_lr = make_pipeline(RobustScaler(), LogisticRegression(random_state=0))\n",
        "\n",
        "# Crear pipeline para escalar los datos y aplicar el modelo de XGBoost\n",
        "pipe_xgb = make_pipeline(RobustScaler(), xgb.XGBClassifier(random_state=0, learning_rate=0.1, max_depth=3, n_estimators=100, objective='binary:logistic'))\n",
        "\n",
        "# Crear pipeline para escalar los datos y aplicar el modelo de Bosques Aleatorios\n",
        "pipe_rf = make_pipeline(RobustScaler(), RandomForestClassifier(random_state=0, n_estimators=100, max_depth=5, min_samples_split=5))\n",
        "\n",
        "# Entrenar los modelos\n",
        "pipe_lr.fit(X_train, y_train)\n",
        "pipe_xgb.fit(X_train, y_train)\n",
        "pipe_rf.fit(X_train, y_train)\n",
        "\n",
        "# Evaluar la precisión de los modelos\n",
        "print(\"Precisión Regresión Logística: {:.2f}\".format(pipe_lr.score(X_test, y_test)))\n",
        "print(\"Precisión XGBoost: {:.2f}\".format(pipe_xgb.score(X_test, y_test)))\n",
        "print(\"Precisión Bosques Aleatorios: {:.2f}\".format(pipe_rf.score(X_test, y_test)))\n",
        "\n"
      ],
      "metadata": {
        "colab": {
          "base_uri": "https://localhost:8080/"
        },
        "id": "yMfdxSTmdq4s",
        "outputId": "ca98379a-3ace-4192-d625-2d2ac5730663"
      },
      "execution_count": null,
      "outputs": [
        {
          "output_type": "stream",
          "name": "stdout",
          "text": [
            "Precisión Regresión Logística: 0.40\n",
            "Precisión XGBoost: 0.60\n",
            "Precisión Bosques Aleatorios: 0.40\n"
          ]
        }
      ]
    },
    {
      "cell_type": "markdown",
      "source": [
        "Comprobación con LazyClassifier"
      ],
      "metadata": {
        "id": "OPZA_g6G9hdj"
      }
    },
    {
      "cell_type": "code",
      "source": [
        "from lazypredict.Supervised import LazyClassifier\n",
        "\n",
        "scaler = RobustScaler()\n",
        "caracteristicas_scaled = scaler.fit_transform(caracteristicas)\n",
        "\n",
        "\n",
        "X_train, X_test, y_train, y_test = train_test_split(caracteristicas_scaled, etiquetas, random_state =123, test_size=0.3)\n",
        "clf = LazyClassifier(verbose=0,ignore_warnings=True, custom_metric=None)\n",
        "\n",
        "models,predictions = clf.fit(X_train, X_test, y_train, y_test)\n",
        "models"
      ],
      "metadata": {
        "colab": {
          "base_uri": "https://localhost:8080/",
          "height": 944
        },
        "id": "hlE6f9hXldTo",
        "outputId": "94a536d7-dea1-46f6-f06f-fcbeb04f453a"
      },
      "execution_count": null,
      "outputs": [
        {
          "output_type": "stream",
          "name": "stderr",
          "text": [
            "100%|██████████| 29/29 [00:03<00:00,  7.80it/s]\n"
          ]
        },
        {
          "output_type": "execute_result",
          "data": {
            "text/plain": [
              "                               Accuracy  Balanced Accuracy  ROC AUC  F1 Score  \\\n",
              "Model                                                                           \n",
              "LabelPropagation                   0.57               0.60     0.60      0.58   \n",
              "LabelSpreading                     0.57               0.60     0.60      0.58   \n",
              "CalibratedClassifierCV             0.40               0.55     0.55      0.30   \n",
              "LGBMClassifier                     0.43               0.50     0.50      0.43   \n",
              "NuSVC                              0.47               0.50     0.50      0.48   \n",
              "DummyClassifier                    0.33               0.50     0.50      0.17   \n",
              "SGDClassifier                      0.53               0.50     0.50      0.54   \n",
              "RandomForestClassifier             0.50               0.50     0.50      0.51   \n",
              "Perceptron                         0.53               0.50     0.50      0.54   \n",
              "DecisionTreeClassifier             0.50               0.48     0.48      0.51   \n",
              "BernoulliNB                        0.43               0.47     0.47      0.44   \n",
              "ExtraTreeClassifier                0.47               0.47     0.47      0.48   \n",
              "PassiveAggressiveClassifier        0.60               0.47     0.48      0.54   \n",
              "SVC                                0.37               0.45     0.45      0.34   \n",
              "XGBClassifier                      0.40               0.42     0.42      0.41   \n",
              "QuadraticDiscriminantAnalysis      0.33               0.40     0.40      0.32   \n",
              "AdaBoostClassifier                 0.43               0.40     0.40      0.45   \n",
              "LogisticRegression                 0.33               0.40     0.40      0.32   \n",
              "LinearDiscriminantAnalysis         0.33               0.40     0.40      0.32   \n",
              "GaussianNB                         0.33               0.40     0.40      0.32   \n",
              "LinearSVC                          0.33               0.40     0.40      0.32   \n",
              "RidgeClassifier                    0.30               0.38     0.38      0.27   \n",
              "ExtraTreesClassifier               0.37               0.38     0.38      0.38   \n",
              "BaggingClassifier                  0.37               0.35     0.35      0.38   \n",
              "KNeighborsClassifier               0.33               0.35     0.35      0.35   \n",
              "NearestCentroid                    0.37               0.33     0.32      0.38   \n",
              "RidgeClassifierCV                  0.23               0.33     0.33      0.17   \n",
              "\n",
              "                               Time Taken  \n",
              "Model                                      \n",
              "LabelPropagation                     0.02  \n",
              "LabelSpreading                       0.02  \n",
              "CalibratedClassifierCV               0.05  \n",
              "LGBMClassifier                       0.09  \n",
              "NuSVC                                0.03  \n",
              "DummyClassifier                      0.03  \n",
              "SGDClassifier                        0.04  \n",
              "RandomForestClassifier               0.63  \n",
              "Perceptron                           0.03  \n",
              "DecisionTreeClassifier               0.02  \n",
              "BernoulliNB                          0.02  \n",
              "ExtraTreeClassifier                  0.02  \n",
              "PassiveAggressiveClassifier          0.03  \n",
              "SVC                                  0.05  \n",
              "XGBClassifier                        1.54  \n",
              "QuadraticDiscriminantAnalysis        0.02  \n",
              "AdaBoostClassifier                   0.20  \n",
              "LogisticRegression                   0.05  \n",
              "LinearDiscriminantAnalysis           0.03  \n",
              "GaussianNB                           0.05  \n",
              "LinearSVC                            0.02  \n",
              "RidgeClassifier                      0.08  \n",
              "ExtraTreesClassifier                 0.36  \n",
              "BaggingClassifier                    0.06  \n",
              "KNeighborsClassifier                 0.02  \n",
              "NearestCentroid                      0.07  \n",
              "RidgeClassifierCV                    0.05  "
            ],
            "text/html": [
              "\n",
              "  <div id=\"df-ba501540-10a1-44e3-b255-91cf7504d5c4\">\n",
              "    <div class=\"colab-df-container\">\n",
              "      <div>\n",
              "<style scoped>\n",
              "    .dataframe tbody tr th:only-of-type {\n",
              "        vertical-align: middle;\n",
              "    }\n",
              "\n",
              "    .dataframe tbody tr th {\n",
              "        vertical-align: top;\n",
              "    }\n",
              "\n",
              "    .dataframe thead th {\n",
              "        text-align: right;\n",
              "    }\n",
              "</style>\n",
              "<table border=\"1\" class=\"dataframe\">\n",
              "  <thead>\n",
              "    <tr style=\"text-align: right;\">\n",
              "      <th></th>\n",
              "      <th>Accuracy</th>\n",
              "      <th>Balanced Accuracy</th>\n",
              "      <th>ROC AUC</th>\n",
              "      <th>F1 Score</th>\n",
              "      <th>Time Taken</th>\n",
              "    </tr>\n",
              "    <tr>\n",
              "      <th>Model</th>\n",
              "      <th></th>\n",
              "      <th></th>\n",
              "      <th></th>\n",
              "      <th></th>\n",
              "      <th></th>\n",
              "    </tr>\n",
              "  </thead>\n",
              "  <tbody>\n",
              "    <tr>\n",
              "      <th>LabelPropagation</th>\n",
              "      <td>0.57</td>\n",
              "      <td>0.60</td>\n",
              "      <td>0.60</td>\n",
              "      <td>0.58</td>\n",
              "      <td>0.02</td>\n",
              "    </tr>\n",
              "    <tr>\n",
              "      <th>LabelSpreading</th>\n",
              "      <td>0.57</td>\n",
              "      <td>0.60</td>\n",
              "      <td>0.60</td>\n",
              "      <td>0.58</td>\n",
              "      <td>0.02</td>\n",
              "    </tr>\n",
              "    <tr>\n",
              "      <th>CalibratedClassifierCV</th>\n",
              "      <td>0.40</td>\n",
              "      <td>0.55</td>\n",
              "      <td>0.55</td>\n",
              "      <td>0.30</td>\n",
              "      <td>0.05</td>\n",
              "    </tr>\n",
              "    <tr>\n",
              "      <th>LGBMClassifier</th>\n",
              "      <td>0.43</td>\n",
              "      <td>0.50</td>\n",
              "      <td>0.50</td>\n",
              "      <td>0.43</td>\n",
              "      <td>0.09</td>\n",
              "    </tr>\n",
              "    <tr>\n",
              "      <th>NuSVC</th>\n",
              "      <td>0.47</td>\n",
              "      <td>0.50</td>\n",
              "      <td>0.50</td>\n",
              "      <td>0.48</td>\n",
              "      <td>0.03</td>\n",
              "    </tr>\n",
              "    <tr>\n",
              "      <th>DummyClassifier</th>\n",
              "      <td>0.33</td>\n",
              "      <td>0.50</td>\n",
              "      <td>0.50</td>\n",
              "      <td>0.17</td>\n",
              "      <td>0.03</td>\n",
              "    </tr>\n",
              "    <tr>\n",
              "      <th>SGDClassifier</th>\n",
              "      <td>0.53</td>\n",
              "      <td>0.50</td>\n",
              "      <td>0.50</td>\n",
              "      <td>0.54</td>\n",
              "      <td>0.04</td>\n",
              "    </tr>\n",
              "    <tr>\n",
              "      <th>RandomForestClassifier</th>\n",
              "      <td>0.50</td>\n",
              "      <td>0.50</td>\n",
              "      <td>0.50</td>\n",
              "      <td>0.51</td>\n",
              "      <td>0.63</td>\n",
              "    </tr>\n",
              "    <tr>\n",
              "      <th>Perceptron</th>\n",
              "      <td>0.53</td>\n",
              "      <td>0.50</td>\n",
              "      <td>0.50</td>\n",
              "      <td>0.54</td>\n",
              "      <td>0.03</td>\n",
              "    </tr>\n",
              "    <tr>\n",
              "      <th>DecisionTreeClassifier</th>\n",
              "      <td>0.50</td>\n",
              "      <td>0.48</td>\n",
              "      <td>0.48</td>\n",
              "      <td>0.51</td>\n",
              "      <td>0.02</td>\n",
              "    </tr>\n",
              "    <tr>\n",
              "      <th>BernoulliNB</th>\n",
              "      <td>0.43</td>\n",
              "      <td>0.47</td>\n",
              "      <td>0.47</td>\n",
              "      <td>0.44</td>\n",
              "      <td>0.02</td>\n",
              "    </tr>\n",
              "    <tr>\n",
              "      <th>ExtraTreeClassifier</th>\n",
              "      <td>0.47</td>\n",
              "      <td>0.47</td>\n",
              "      <td>0.47</td>\n",
              "      <td>0.48</td>\n",
              "      <td>0.02</td>\n",
              "    </tr>\n",
              "    <tr>\n",
              "      <th>PassiveAggressiveClassifier</th>\n",
              "      <td>0.60</td>\n",
              "      <td>0.47</td>\n",
              "      <td>0.48</td>\n",
              "      <td>0.54</td>\n",
              "      <td>0.03</td>\n",
              "    </tr>\n",
              "    <tr>\n",
              "      <th>SVC</th>\n",
              "      <td>0.37</td>\n",
              "      <td>0.45</td>\n",
              "      <td>0.45</td>\n",
              "      <td>0.34</td>\n",
              "      <td>0.05</td>\n",
              "    </tr>\n",
              "    <tr>\n",
              "      <th>XGBClassifier</th>\n",
              "      <td>0.40</td>\n",
              "      <td>0.42</td>\n",
              "      <td>0.42</td>\n",
              "      <td>0.41</td>\n",
              "      <td>1.54</td>\n",
              "    </tr>\n",
              "    <tr>\n",
              "      <th>QuadraticDiscriminantAnalysis</th>\n",
              "      <td>0.33</td>\n",
              "      <td>0.40</td>\n",
              "      <td>0.40</td>\n",
              "      <td>0.32</td>\n",
              "      <td>0.02</td>\n",
              "    </tr>\n",
              "    <tr>\n",
              "      <th>AdaBoostClassifier</th>\n",
              "      <td>0.43</td>\n",
              "      <td>0.40</td>\n",
              "      <td>0.40</td>\n",
              "      <td>0.45</td>\n",
              "      <td>0.20</td>\n",
              "    </tr>\n",
              "    <tr>\n",
              "      <th>LogisticRegression</th>\n",
              "      <td>0.33</td>\n",
              "      <td>0.40</td>\n",
              "      <td>0.40</td>\n",
              "      <td>0.32</td>\n",
              "      <td>0.05</td>\n",
              "    </tr>\n",
              "    <tr>\n",
              "      <th>LinearDiscriminantAnalysis</th>\n",
              "      <td>0.33</td>\n",
              "      <td>0.40</td>\n",
              "      <td>0.40</td>\n",
              "      <td>0.32</td>\n",
              "      <td>0.03</td>\n",
              "    </tr>\n",
              "    <tr>\n",
              "      <th>GaussianNB</th>\n",
              "      <td>0.33</td>\n",
              "      <td>0.40</td>\n",
              "      <td>0.40</td>\n",
              "      <td>0.32</td>\n",
              "      <td>0.05</td>\n",
              "    </tr>\n",
              "    <tr>\n",
              "      <th>LinearSVC</th>\n",
              "      <td>0.33</td>\n",
              "      <td>0.40</td>\n",
              "      <td>0.40</td>\n",
              "      <td>0.32</td>\n",
              "      <td>0.02</td>\n",
              "    </tr>\n",
              "    <tr>\n",
              "      <th>RidgeClassifier</th>\n",
              "      <td>0.30</td>\n",
              "      <td>0.38</td>\n",
              "      <td>0.38</td>\n",
              "      <td>0.27</td>\n",
              "      <td>0.08</td>\n",
              "    </tr>\n",
              "    <tr>\n",
              "      <th>ExtraTreesClassifier</th>\n",
              "      <td>0.37</td>\n",
              "      <td>0.38</td>\n",
              "      <td>0.38</td>\n",
              "      <td>0.38</td>\n",
              "      <td>0.36</td>\n",
              "    </tr>\n",
              "    <tr>\n",
              "      <th>BaggingClassifier</th>\n",
              "      <td>0.37</td>\n",
              "      <td>0.35</td>\n",
              "      <td>0.35</td>\n",
              "      <td>0.38</td>\n",
              "      <td>0.06</td>\n",
              "    </tr>\n",
              "    <tr>\n",
              "      <th>KNeighborsClassifier</th>\n",
              "      <td>0.33</td>\n",
              "      <td>0.35</td>\n",
              "      <td>0.35</td>\n",
              "      <td>0.35</td>\n",
              "      <td>0.02</td>\n",
              "    </tr>\n",
              "    <tr>\n",
              "      <th>NearestCentroid</th>\n",
              "      <td>0.37</td>\n",
              "      <td>0.33</td>\n",
              "      <td>0.32</td>\n",
              "      <td>0.38</td>\n",
              "      <td>0.07</td>\n",
              "    </tr>\n",
              "    <tr>\n",
              "      <th>RidgeClassifierCV</th>\n",
              "      <td>0.23</td>\n",
              "      <td>0.33</td>\n",
              "      <td>0.33</td>\n",
              "      <td>0.17</td>\n",
              "      <td>0.05</td>\n",
              "    </tr>\n",
              "  </tbody>\n",
              "</table>\n",
              "</div>\n",
              "      <button class=\"colab-df-convert\" onclick=\"convertToInteractive('df-ba501540-10a1-44e3-b255-91cf7504d5c4')\"\n",
              "              title=\"Convert this dataframe to an interactive table.\"\n",
              "              style=\"display:none;\">\n",
              "        \n",
              "  <svg xmlns=\"http://www.w3.org/2000/svg\" height=\"24px\"viewBox=\"0 0 24 24\"\n",
              "       width=\"24px\">\n",
              "    <path d=\"M0 0h24v24H0V0z\" fill=\"none\"/>\n",
              "    <path d=\"M18.56 5.44l.94 2.06.94-2.06 2.06-.94-2.06-.94-.94-2.06-.94 2.06-2.06.94zm-11 1L8.5 8.5l.94-2.06 2.06-.94-2.06-.94L8.5 2.5l-.94 2.06-2.06.94zm10 10l.94 2.06.94-2.06 2.06-.94-2.06-.94-.94-2.06-.94 2.06-2.06.94z\"/><path d=\"M17.41 7.96l-1.37-1.37c-.4-.4-.92-.59-1.43-.59-.52 0-1.04.2-1.43.59L10.3 9.45l-7.72 7.72c-.78.78-.78 2.05 0 2.83L4 21.41c.39.39.9.59 1.41.59.51 0 1.02-.2 1.41-.59l7.78-7.78 2.81-2.81c.8-.78.8-2.07 0-2.86zM5.41 20L4 18.59l7.72-7.72 1.47 1.35L5.41 20z\"/>\n",
              "  </svg>\n",
              "      </button>\n",
              "      \n",
              "  <style>\n",
              "    .colab-df-container {\n",
              "      display:flex;\n",
              "      flex-wrap:wrap;\n",
              "      gap: 12px;\n",
              "    }\n",
              "\n",
              "    .colab-df-convert {\n",
              "      background-color: #E8F0FE;\n",
              "      border: none;\n",
              "      border-radius: 50%;\n",
              "      cursor: pointer;\n",
              "      display: none;\n",
              "      fill: #1967D2;\n",
              "      height: 32px;\n",
              "      padding: 0 0 0 0;\n",
              "      width: 32px;\n",
              "    }\n",
              "\n",
              "    .colab-df-convert:hover {\n",
              "      background-color: #E2EBFA;\n",
              "      box-shadow: 0px 1px 2px rgba(60, 64, 67, 0.3), 0px 1px 3px 1px rgba(60, 64, 67, 0.15);\n",
              "      fill: #174EA6;\n",
              "    }\n",
              "\n",
              "    [theme=dark] .colab-df-convert {\n",
              "      background-color: #3B4455;\n",
              "      fill: #D2E3FC;\n",
              "    }\n",
              "\n",
              "    [theme=dark] .colab-df-convert:hover {\n",
              "      background-color: #434B5C;\n",
              "      box-shadow: 0px 1px 3px 1px rgba(0, 0, 0, 0.15);\n",
              "      filter: drop-shadow(0px 1px 2px rgba(0, 0, 0, 0.3));\n",
              "      fill: #FFFFFF;\n",
              "    }\n",
              "  </style>\n",
              "\n",
              "      <script>\n",
              "        const buttonEl =\n",
              "          document.querySelector('#df-ba501540-10a1-44e3-b255-91cf7504d5c4 button.colab-df-convert');\n",
              "        buttonEl.style.display =\n",
              "          google.colab.kernel.accessAllowed ? 'block' : 'none';\n",
              "\n",
              "        async function convertToInteractive(key) {\n",
              "          const element = document.querySelector('#df-ba501540-10a1-44e3-b255-91cf7504d5c4');\n",
              "          const dataTable =\n",
              "            await google.colab.kernel.invokeFunction('convertToInteractive',\n",
              "                                                     [key], {});\n",
              "          if (!dataTable) return;\n",
              "\n",
              "          const docLinkHtml = 'Like what you see? Visit the ' +\n",
              "            '<a target=\"_blank\" href=https://colab.research.google.com/notebooks/data_table.ipynb>data table notebook</a>'\n",
              "            + ' to learn more about interactive tables.';\n",
              "          element.innerHTML = '';\n",
              "          dataTable['output_type'] = 'display_data';\n",
              "          await google.colab.output.renderOutput(dataTable, element);\n",
              "          const docLink = document.createElement('div');\n",
              "          docLink.innerHTML = docLinkHtml;\n",
              "          element.appendChild(docLink);\n",
              "        }\n",
              "      </script>\n",
              "    </div>\n",
              "  </div>\n",
              "  "
            ]
          },
          "metadata": {},
          "execution_count": 56
        }
      ]
    },
    {
      "cell_type": "markdown",
      "source": [
        "Aplicación de PCA"
      ],
      "metadata": {
        "id": "JuyUme5T94ZJ"
      }
    },
    {
      "cell_type": "code",
      "source": [
        "# Ahora probamos con PCA\n",
        "\n",
        "from sklearn.decomposition import PCA\n",
        "\n",
        "pca = PCA(n_components = 2)\n",
        "pca.fit(caracteristicas_scaled)\n",
        "X_pca = pca.transform(caracteristicas_scaled)\n",
        "\n",
        "pca_df = pd.DataFrame(data=X_pca, columns=['PC1', 'PC2'])\n",
        "\n",
        "pca_df"
      ],
      "metadata": {
        "colab": {
          "base_uri": "https://localhost:8080/",
          "height": 423
        },
        "id": "LS7QmT7jmcAr",
        "outputId": "cf792edc-e85a-4d56-a040-6b905bd6d43f"
      },
      "execution_count": null,
      "outputs": [
        {
          "output_type": "execute_result",
          "data": {
            "text/plain": [
              "     PC1   PC2\n",
              "0  -0.18  0.85\n",
              "1  -0.02 -1.57\n",
              "2  -0.97 -0.28\n",
              "3   0.74 -0.59\n",
              "4  -0.03 -0.07\n",
              "..   ...   ...\n",
              "93 -1.28 -1.82\n",
              "94 -1.94  1.24\n",
              "95  0.58 -1.24\n",
              "96 -1.54 -0.15\n",
              "97 -0.10 -0.48\n",
              "\n",
              "[98 rows x 2 columns]"
            ],
            "text/html": [
              "\n",
              "  <div id=\"df-7e4c33ec-a016-4f0b-a0dd-2ce0eb552daf\">\n",
              "    <div class=\"colab-df-container\">\n",
              "      <div>\n",
              "<style scoped>\n",
              "    .dataframe tbody tr th:only-of-type {\n",
              "        vertical-align: middle;\n",
              "    }\n",
              "\n",
              "    .dataframe tbody tr th {\n",
              "        vertical-align: top;\n",
              "    }\n",
              "\n",
              "    .dataframe thead th {\n",
              "        text-align: right;\n",
              "    }\n",
              "</style>\n",
              "<table border=\"1\" class=\"dataframe\">\n",
              "  <thead>\n",
              "    <tr style=\"text-align: right;\">\n",
              "      <th></th>\n",
              "      <th>PC1</th>\n",
              "      <th>PC2</th>\n",
              "    </tr>\n",
              "  </thead>\n",
              "  <tbody>\n",
              "    <tr>\n",
              "      <th>0</th>\n",
              "      <td>-0.18</td>\n",
              "      <td>0.85</td>\n",
              "    </tr>\n",
              "    <tr>\n",
              "      <th>1</th>\n",
              "      <td>-0.02</td>\n",
              "      <td>-1.57</td>\n",
              "    </tr>\n",
              "    <tr>\n",
              "      <th>2</th>\n",
              "      <td>-0.97</td>\n",
              "      <td>-0.28</td>\n",
              "    </tr>\n",
              "    <tr>\n",
              "      <th>3</th>\n",
              "      <td>0.74</td>\n",
              "      <td>-0.59</td>\n",
              "    </tr>\n",
              "    <tr>\n",
              "      <th>4</th>\n",
              "      <td>-0.03</td>\n",
              "      <td>-0.07</td>\n",
              "    </tr>\n",
              "    <tr>\n",
              "      <th>...</th>\n",
              "      <td>...</td>\n",
              "      <td>...</td>\n",
              "    </tr>\n",
              "    <tr>\n",
              "      <th>93</th>\n",
              "      <td>-1.28</td>\n",
              "      <td>-1.82</td>\n",
              "    </tr>\n",
              "    <tr>\n",
              "      <th>94</th>\n",
              "      <td>-1.94</td>\n",
              "      <td>1.24</td>\n",
              "    </tr>\n",
              "    <tr>\n",
              "      <th>95</th>\n",
              "      <td>0.58</td>\n",
              "      <td>-1.24</td>\n",
              "    </tr>\n",
              "    <tr>\n",
              "      <th>96</th>\n",
              "      <td>-1.54</td>\n",
              "      <td>-0.15</td>\n",
              "    </tr>\n",
              "    <tr>\n",
              "      <th>97</th>\n",
              "      <td>-0.10</td>\n",
              "      <td>-0.48</td>\n",
              "    </tr>\n",
              "  </tbody>\n",
              "</table>\n",
              "<p>98 rows × 2 columns</p>\n",
              "</div>\n",
              "      <button class=\"colab-df-convert\" onclick=\"convertToInteractive('df-7e4c33ec-a016-4f0b-a0dd-2ce0eb552daf')\"\n",
              "              title=\"Convert this dataframe to an interactive table.\"\n",
              "              style=\"display:none;\">\n",
              "        \n",
              "  <svg xmlns=\"http://www.w3.org/2000/svg\" height=\"24px\"viewBox=\"0 0 24 24\"\n",
              "       width=\"24px\">\n",
              "    <path d=\"M0 0h24v24H0V0z\" fill=\"none\"/>\n",
              "    <path d=\"M18.56 5.44l.94 2.06.94-2.06 2.06-.94-2.06-.94-.94-2.06-.94 2.06-2.06.94zm-11 1L8.5 8.5l.94-2.06 2.06-.94-2.06-.94L8.5 2.5l-.94 2.06-2.06.94zm10 10l.94 2.06.94-2.06 2.06-.94-2.06-.94-.94-2.06-.94 2.06-2.06.94z\"/><path d=\"M17.41 7.96l-1.37-1.37c-.4-.4-.92-.59-1.43-.59-.52 0-1.04.2-1.43.59L10.3 9.45l-7.72 7.72c-.78.78-.78 2.05 0 2.83L4 21.41c.39.39.9.59 1.41.59.51 0 1.02-.2 1.41-.59l7.78-7.78 2.81-2.81c.8-.78.8-2.07 0-2.86zM5.41 20L4 18.59l7.72-7.72 1.47 1.35L5.41 20z\"/>\n",
              "  </svg>\n",
              "      </button>\n",
              "      \n",
              "  <style>\n",
              "    .colab-df-container {\n",
              "      display:flex;\n",
              "      flex-wrap:wrap;\n",
              "      gap: 12px;\n",
              "    }\n",
              "\n",
              "    .colab-df-convert {\n",
              "      background-color: #E8F0FE;\n",
              "      border: none;\n",
              "      border-radius: 50%;\n",
              "      cursor: pointer;\n",
              "      display: none;\n",
              "      fill: #1967D2;\n",
              "      height: 32px;\n",
              "      padding: 0 0 0 0;\n",
              "      width: 32px;\n",
              "    }\n",
              "\n",
              "    .colab-df-convert:hover {\n",
              "      background-color: #E2EBFA;\n",
              "      box-shadow: 0px 1px 2px rgba(60, 64, 67, 0.3), 0px 1px 3px 1px rgba(60, 64, 67, 0.15);\n",
              "      fill: #174EA6;\n",
              "    }\n",
              "\n",
              "    [theme=dark] .colab-df-convert {\n",
              "      background-color: #3B4455;\n",
              "      fill: #D2E3FC;\n",
              "    }\n",
              "\n",
              "    [theme=dark] .colab-df-convert:hover {\n",
              "      background-color: #434B5C;\n",
              "      box-shadow: 0px 1px 3px 1px rgba(0, 0, 0, 0.15);\n",
              "      filter: drop-shadow(0px 1px 2px rgba(0, 0, 0, 0.3));\n",
              "      fill: #FFFFFF;\n",
              "    }\n",
              "  </style>\n",
              "\n",
              "      <script>\n",
              "        const buttonEl =\n",
              "          document.querySelector('#df-7e4c33ec-a016-4f0b-a0dd-2ce0eb552daf button.colab-df-convert');\n",
              "        buttonEl.style.display =\n",
              "          google.colab.kernel.accessAllowed ? 'block' : 'none';\n",
              "\n",
              "        async function convertToInteractive(key) {\n",
              "          const element = document.querySelector('#df-7e4c33ec-a016-4f0b-a0dd-2ce0eb552daf');\n",
              "          const dataTable =\n",
              "            await google.colab.kernel.invokeFunction('convertToInteractive',\n",
              "                                                     [key], {});\n",
              "          if (!dataTable) return;\n",
              "\n",
              "          const docLinkHtml = 'Like what you see? Visit the ' +\n",
              "            '<a target=\"_blank\" href=https://colab.research.google.com/notebooks/data_table.ipynb>data table notebook</a>'\n",
              "            + ' to learn more about interactive tables.';\n",
              "          element.innerHTML = '';\n",
              "          dataTable['output_type'] = 'display_data';\n",
              "          await google.colab.output.renderOutput(dataTable, element);\n",
              "          const docLink = document.createElement('div');\n",
              "          docLink.innerHTML = docLinkHtml;\n",
              "          element.appendChild(docLink);\n",
              "        }\n",
              "      </script>\n",
              "    </div>\n",
              "  </div>\n",
              "  "
            ]
          },
          "metadata": {},
          "execution_count": 57
        }
      ]
    },
    {
      "cell_type": "code",
      "source": [
        "X_train, X_test, y_train, y_test = train_test_split(pca_df, etiquetas, random_state =123, test_size=0.3)\n",
        "clf = LazyClassifier(verbose=0,ignore_warnings=True, custom_metric=None)\n",
        "\n",
        "models,predictions = clf.fit(X_train, X_test, y_train, y_test)\n",
        "models"
      ],
      "metadata": {
        "colab": {
          "base_uri": "https://localhost:8080/",
          "height": 944
        },
        "id": "QjMTxJ8Qne0Z",
        "outputId": "e5e9e88b-f598-44d0-deaf-1fe588572229"
      },
      "execution_count": null,
      "outputs": [
        {
          "output_type": "stream",
          "name": "stderr",
          "text": [
            "100%|██████████| 29/29 [00:01<00:00, 24.90it/s]\n"
          ]
        },
        {
          "output_type": "execute_result",
          "data": {
            "text/plain": [
              "                               Accuracy  Balanced Accuracy  ROC AUC  F1 Score  \\\n",
              "Model                                                                           \n",
              "DecisionTreeClassifier             0.60               0.65     0.65      0.61   \n",
              "XGBClassifier                      0.60               0.62     0.62      0.61   \n",
              "LabelPropagation                   0.57               0.62     0.62      0.57   \n",
              "LabelSpreading                     0.57               0.62     0.62      0.57   \n",
              "NearestCentroid                    0.53               0.55     0.55      0.55   \n",
              "CalibratedClassifierCV             0.40               0.55     0.55      0.30   \n",
              "NuSVC                              0.57               0.55     0.55      0.58   \n",
              "BaggingClassifier                  0.57               0.55     0.55      0.58   \n",
              "QuadraticDiscriminantAnalysis      0.40               0.53     0.53      0.33   \n",
              "AdaBoostClassifier                 0.47               0.50     0.50      0.48   \n",
              "SGDClassifier                      0.33               0.50     0.50      0.17   \n",
              "RidgeClassifierCV                  0.33               0.50     0.50      0.17   \n",
              "RidgeClassifier                    0.33               0.50     0.50      0.17   \n",
              "PassiveAggressiveClassifier        0.67               0.50     0.50      0.53   \n",
              "LinearSVC                          0.33               0.50     0.50      0.17   \n",
              "LogisticRegression                 0.33               0.50     0.50      0.17   \n",
              "LinearDiscriminantAnalysis         0.33               0.50     0.50      0.17   \n",
              "GaussianNB                         0.37               0.50     0.50      0.28   \n",
              "DummyClassifier                    0.33               0.50     0.50      0.17   \n",
              "BernoulliNB                        0.33               0.50     0.50      0.17   \n",
              "KNeighborsClassifier               0.37               0.48     0.48      0.31   \n",
              "SVC                                0.33               0.48     0.48      0.22   \n",
              "RandomForestClassifier             0.43               0.47     0.47      0.44   \n",
              "ExtraTreeClassifier                0.47               0.45     0.45      0.48   \n",
              "LGBMClassifier                     0.37               0.45     0.45      0.34   \n",
              "Perceptron                         0.43               0.40     0.40      0.45   \n",
              "ExtraTreesClassifier               0.37               0.40     0.40      0.37   \n",
              "\n",
              "                               Time Taken  \n",
              "Model                                      \n",
              "DecisionTreeClassifier               0.02  \n",
              "XGBClassifier                        0.04  \n",
              "LabelPropagation                     0.02  \n",
              "LabelSpreading                       0.02  \n",
              "NearestCentroid                      0.07  \n",
              "CalibratedClassifierCV               0.05  \n",
              "NuSVC                                0.04  \n",
              "BaggingClassifier                    0.05  \n",
              "QuadraticDiscriminantAnalysis        0.01  \n",
              "AdaBoostClassifier                   0.15  \n",
              "SGDClassifier                        0.01  \n",
              "RidgeClassifierCV                    0.02  \n",
              "RidgeClassifier                      0.01  \n",
              "PassiveAggressiveClassifier          0.02  \n",
              "LinearSVC                            0.02  \n",
              "LogisticRegression                   0.02  \n",
              "LinearDiscriminantAnalysis           0.02  \n",
              "GaussianNB                           0.02  \n",
              "DummyClassifier                      0.02  \n",
              "BernoulliNB                          0.02  \n",
              "KNeighborsClassifier                 0.02  \n",
              "SVC                                  0.02  \n",
              "RandomForestClassifier               0.16  \n",
              "ExtraTreeClassifier                  0.02  \n",
              "LGBMClassifier                       0.03  \n",
              "Perceptron                           0.02  \n",
              "ExtraTreesClassifier                 0.22  "
            ],
            "text/html": [
              "\n",
              "  <div id=\"df-247125d3-332a-4188-92b8-f7de5d4cedab\">\n",
              "    <div class=\"colab-df-container\">\n",
              "      <div>\n",
              "<style scoped>\n",
              "    .dataframe tbody tr th:only-of-type {\n",
              "        vertical-align: middle;\n",
              "    }\n",
              "\n",
              "    .dataframe tbody tr th {\n",
              "        vertical-align: top;\n",
              "    }\n",
              "\n",
              "    .dataframe thead th {\n",
              "        text-align: right;\n",
              "    }\n",
              "</style>\n",
              "<table border=\"1\" class=\"dataframe\">\n",
              "  <thead>\n",
              "    <tr style=\"text-align: right;\">\n",
              "      <th></th>\n",
              "      <th>Accuracy</th>\n",
              "      <th>Balanced Accuracy</th>\n",
              "      <th>ROC AUC</th>\n",
              "      <th>F1 Score</th>\n",
              "      <th>Time Taken</th>\n",
              "    </tr>\n",
              "    <tr>\n",
              "      <th>Model</th>\n",
              "      <th></th>\n",
              "      <th></th>\n",
              "      <th></th>\n",
              "      <th></th>\n",
              "      <th></th>\n",
              "    </tr>\n",
              "  </thead>\n",
              "  <tbody>\n",
              "    <tr>\n",
              "      <th>DecisionTreeClassifier</th>\n",
              "      <td>0.60</td>\n",
              "      <td>0.65</td>\n",
              "      <td>0.65</td>\n",
              "      <td>0.61</td>\n",
              "      <td>0.02</td>\n",
              "    </tr>\n",
              "    <tr>\n",
              "      <th>XGBClassifier</th>\n",
              "      <td>0.60</td>\n",
              "      <td>0.62</td>\n",
              "      <td>0.62</td>\n",
              "      <td>0.61</td>\n",
              "      <td>0.04</td>\n",
              "    </tr>\n",
              "    <tr>\n",
              "      <th>LabelPropagation</th>\n",
              "      <td>0.57</td>\n",
              "      <td>0.62</td>\n",
              "      <td>0.62</td>\n",
              "      <td>0.57</td>\n",
              "      <td>0.02</td>\n",
              "    </tr>\n",
              "    <tr>\n",
              "      <th>LabelSpreading</th>\n",
              "      <td>0.57</td>\n",
              "      <td>0.62</td>\n",
              "      <td>0.62</td>\n",
              "      <td>0.57</td>\n",
              "      <td>0.02</td>\n",
              "    </tr>\n",
              "    <tr>\n",
              "      <th>NearestCentroid</th>\n",
              "      <td>0.53</td>\n",
              "      <td>0.55</td>\n",
              "      <td>0.55</td>\n",
              "      <td>0.55</td>\n",
              "      <td>0.07</td>\n",
              "    </tr>\n",
              "    <tr>\n",
              "      <th>CalibratedClassifierCV</th>\n",
              "      <td>0.40</td>\n",
              "      <td>0.55</td>\n",
              "      <td>0.55</td>\n",
              "      <td>0.30</td>\n",
              "      <td>0.05</td>\n",
              "    </tr>\n",
              "    <tr>\n",
              "      <th>NuSVC</th>\n",
              "      <td>0.57</td>\n",
              "      <td>0.55</td>\n",
              "      <td>0.55</td>\n",
              "      <td>0.58</td>\n",
              "      <td>0.04</td>\n",
              "    </tr>\n",
              "    <tr>\n",
              "      <th>BaggingClassifier</th>\n",
              "      <td>0.57</td>\n",
              "      <td>0.55</td>\n",
              "      <td>0.55</td>\n",
              "      <td>0.58</td>\n",
              "      <td>0.05</td>\n",
              "    </tr>\n",
              "    <tr>\n",
              "      <th>QuadraticDiscriminantAnalysis</th>\n",
              "      <td>0.40</td>\n",
              "      <td>0.53</td>\n",
              "      <td>0.53</td>\n",
              "      <td>0.33</td>\n",
              "      <td>0.01</td>\n",
              "    </tr>\n",
              "    <tr>\n",
              "      <th>AdaBoostClassifier</th>\n",
              "      <td>0.47</td>\n",
              "      <td>0.50</td>\n",
              "      <td>0.50</td>\n",
              "      <td>0.48</td>\n",
              "      <td>0.15</td>\n",
              "    </tr>\n",
              "    <tr>\n",
              "      <th>SGDClassifier</th>\n",
              "      <td>0.33</td>\n",
              "      <td>0.50</td>\n",
              "      <td>0.50</td>\n",
              "      <td>0.17</td>\n",
              "      <td>0.01</td>\n",
              "    </tr>\n",
              "    <tr>\n",
              "      <th>RidgeClassifierCV</th>\n",
              "      <td>0.33</td>\n",
              "      <td>0.50</td>\n",
              "      <td>0.50</td>\n",
              "      <td>0.17</td>\n",
              "      <td>0.02</td>\n",
              "    </tr>\n",
              "    <tr>\n",
              "      <th>RidgeClassifier</th>\n",
              "      <td>0.33</td>\n",
              "      <td>0.50</td>\n",
              "      <td>0.50</td>\n",
              "      <td>0.17</td>\n",
              "      <td>0.01</td>\n",
              "    </tr>\n",
              "    <tr>\n",
              "      <th>PassiveAggressiveClassifier</th>\n",
              "      <td>0.67</td>\n",
              "      <td>0.50</td>\n",
              "      <td>0.50</td>\n",
              "      <td>0.53</td>\n",
              "      <td>0.02</td>\n",
              "    </tr>\n",
              "    <tr>\n",
              "      <th>LinearSVC</th>\n",
              "      <td>0.33</td>\n",
              "      <td>0.50</td>\n",
              "      <td>0.50</td>\n",
              "      <td>0.17</td>\n",
              "      <td>0.02</td>\n",
              "    </tr>\n",
              "    <tr>\n",
              "      <th>LogisticRegression</th>\n",
              "      <td>0.33</td>\n",
              "      <td>0.50</td>\n",
              "      <td>0.50</td>\n",
              "      <td>0.17</td>\n",
              "      <td>0.02</td>\n",
              "    </tr>\n",
              "    <tr>\n",
              "      <th>LinearDiscriminantAnalysis</th>\n",
              "      <td>0.33</td>\n",
              "      <td>0.50</td>\n",
              "      <td>0.50</td>\n",
              "      <td>0.17</td>\n",
              "      <td>0.02</td>\n",
              "    </tr>\n",
              "    <tr>\n",
              "      <th>GaussianNB</th>\n",
              "      <td>0.37</td>\n",
              "      <td>0.50</td>\n",
              "      <td>0.50</td>\n",
              "      <td>0.28</td>\n",
              "      <td>0.02</td>\n",
              "    </tr>\n",
              "    <tr>\n",
              "      <th>DummyClassifier</th>\n",
              "      <td>0.33</td>\n",
              "      <td>0.50</td>\n",
              "      <td>0.50</td>\n",
              "      <td>0.17</td>\n",
              "      <td>0.02</td>\n",
              "    </tr>\n",
              "    <tr>\n",
              "      <th>BernoulliNB</th>\n",
              "      <td>0.33</td>\n",
              "      <td>0.50</td>\n",
              "      <td>0.50</td>\n",
              "      <td>0.17</td>\n",
              "      <td>0.02</td>\n",
              "    </tr>\n",
              "    <tr>\n",
              "      <th>KNeighborsClassifier</th>\n",
              "      <td>0.37</td>\n",
              "      <td>0.48</td>\n",
              "      <td>0.48</td>\n",
              "      <td>0.31</td>\n",
              "      <td>0.02</td>\n",
              "    </tr>\n",
              "    <tr>\n",
              "      <th>SVC</th>\n",
              "      <td>0.33</td>\n",
              "      <td>0.48</td>\n",
              "      <td>0.48</td>\n",
              "      <td>0.22</td>\n",
              "      <td>0.02</td>\n",
              "    </tr>\n",
              "    <tr>\n",
              "      <th>RandomForestClassifier</th>\n",
              "      <td>0.43</td>\n",
              "      <td>0.47</td>\n",
              "      <td>0.47</td>\n",
              "      <td>0.44</td>\n",
              "      <td>0.16</td>\n",
              "    </tr>\n",
              "    <tr>\n",
              "      <th>ExtraTreeClassifier</th>\n",
              "      <td>0.47</td>\n",
              "      <td>0.45</td>\n",
              "      <td>0.45</td>\n",
              "      <td>0.48</td>\n",
              "      <td>0.02</td>\n",
              "    </tr>\n",
              "    <tr>\n",
              "      <th>LGBMClassifier</th>\n",
              "      <td>0.37</td>\n",
              "      <td>0.45</td>\n",
              "      <td>0.45</td>\n",
              "      <td>0.34</td>\n",
              "      <td>0.03</td>\n",
              "    </tr>\n",
              "    <tr>\n",
              "      <th>Perceptron</th>\n",
              "      <td>0.43</td>\n",
              "      <td>0.40</td>\n",
              "      <td>0.40</td>\n",
              "      <td>0.45</td>\n",
              "      <td>0.02</td>\n",
              "    </tr>\n",
              "    <tr>\n",
              "      <th>ExtraTreesClassifier</th>\n",
              "      <td>0.37</td>\n",
              "      <td>0.40</td>\n",
              "      <td>0.40</td>\n",
              "      <td>0.37</td>\n",
              "      <td>0.22</td>\n",
              "    </tr>\n",
              "  </tbody>\n",
              "</table>\n",
              "</div>\n",
              "      <button class=\"colab-df-convert\" onclick=\"convertToInteractive('df-247125d3-332a-4188-92b8-f7de5d4cedab')\"\n",
              "              title=\"Convert this dataframe to an interactive table.\"\n",
              "              style=\"display:none;\">\n",
              "        \n",
              "  <svg xmlns=\"http://www.w3.org/2000/svg\" height=\"24px\"viewBox=\"0 0 24 24\"\n",
              "       width=\"24px\">\n",
              "    <path d=\"M0 0h24v24H0V0z\" fill=\"none\"/>\n",
              "    <path d=\"M18.56 5.44l.94 2.06.94-2.06 2.06-.94-2.06-.94-.94-2.06-.94 2.06-2.06.94zm-11 1L8.5 8.5l.94-2.06 2.06-.94-2.06-.94L8.5 2.5l-.94 2.06-2.06.94zm10 10l.94 2.06.94-2.06 2.06-.94-2.06-.94-.94-2.06-.94 2.06-2.06.94z\"/><path d=\"M17.41 7.96l-1.37-1.37c-.4-.4-.92-.59-1.43-.59-.52 0-1.04.2-1.43.59L10.3 9.45l-7.72 7.72c-.78.78-.78 2.05 0 2.83L4 21.41c.39.39.9.59 1.41.59.51 0 1.02-.2 1.41-.59l7.78-7.78 2.81-2.81c.8-.78.8-2.07 0-2.86zM5.41 20L4 18.59l7.72-7.72 1.47 1.35L5.41 20z\"/>\n",
              "  </svg>\n",
              "      </button>\n",
              "      \n",
              "  <style>\n",
              "    .colab-df-container {\n",
              "      display:flex;\n",
              "      flex-wrap:wrap;\n",
              "      gap: 12px;\n",
              "    }\n",
              "\n",
              "    .colab-df-convert {\n",
              "      background-color: #E8F0FE;\n",
              "      border: none;\n",
              "      border-radius: 50%;\n",
              "      cursor: pointer;\n",
              "      display: none;\n",
              "      fill: #1967D2;\n",
              "      height: 32px;\n",
              "      padding: 0 0 0 0;\n",
              "      width: 32px;\n",
              "    }\n",
              "\n",
              "    .colab-df-convert:hover {\n",
              "      background-color: #E2EBFA;\n",
              "      box-shadow: 0px 1px 2px rgba(60, 64, 67, 0.3), 0px 1px 3px 1px rgba(60, 64, 67, 0.15);\n",
              "      fill: #174EA6;\n",
              "    }\n",
              "\n",
              "    [theme=dark] .colab-df-convert {\n",
              "      background-color: #3B4455;\n",
              "      fill: #D2E3FC;\n",
              "    }\n",
              "\n",
              "    [theme=dark] .colab-df-convert:hover {\n",
              "      background-color: #434B5C;\n",
              "      box-shadow: 0px 1px 3px 1px rgba(0, 0, 0, 0.15);\n",
              "      filter: drop-shadow(0px 1px 2px rgba(0, 0, 0, 0.3));\n",
              "      fill: #FFFFFF;\n",
              "    }\n",
              "  </style>\n",
              "\n",
              "      <script>\n",
              "        const buttonEl =\n",
              "          document.querySelector('#df-247125d3-332a-4188-92b8-f7de5d4cedab button.colab-df-convert');\n",
              "        buttonEl.style.display =\n",
              "          google.colab.kernel.accessAllowed ? 'block' : 'none';\n",
              "\n",
              "        async function convertToInteractive(key) {\n",
              "          const element = document.querySelector('#df-247125d3-332a-4188-92b8-f7de5d4cedab');\n",
              "          const dataTable =\n",
              "            await google.colab.kernel.invokeFunction('convertToInteractive',\n",
              "                                                     [key], {});\n",
              "          if (!dataTable) return;\n",
              "\n",
              "          const docLinkHtml = 'Like what you see? Visit the ' +\n",
              "            '<a target=\"_blank\" href=https://colab.research.google.com/notebooks/data_table.ipynb>data table notebook</a>'\n",
              "            + ' to learn more about interactive tables.';\n",
              "          element.innerHTML = '';\n",
              "          dataTable['output_type'] = 'display_data';\n",
              "          await google.colab.output.renderOutput(dataTable, element);\n",
              "          const docLink = document.createElement('div');\n",
              "          docLink.innerHTML = docLinkHtml;\n",
              "          element.appendChild(docLink);\n",
              "        }\n",
              "      </script>\n",
              "    </div>\n",
              "  </div>\n",
              "  "
            ]
          },
          "metadata": {},
          "execution_count": 58
        }
      ]
    },
    {
      "cell_type": "markdown",
      "source": [
        "## Método de Ensemble"
      ],
      "metadata": {
        "id": "nQAAVSf89_iL"
      }
    },
    {
      "cell_type": "code",
      "execution_count": null,
      "metadata": {
        "id": "3cd2d3bd-ab68-4490-9c52-a2dc29eeb3ad"
      },
      "outputs": [],
      "source": [
        "# modelos multioutputs\n",
        "\n",
        "from sklearn.naive_bayes import CategoricalNB\n",
        "from sklearn.neighbors import KNeighborsClassifier\n",
        "from sklearn.svm import LinearSVC, SVC\n",
        "from sklearn.tree import DecisionTreeClassifier\n",
        "from sklearn.ensemble import RandomForestClassifier, AdaBoostClassifier, BaggingClassifier, GradientBoostingClassifier, StackingClassifier, HistGradientBoostingClassifier, VotingClassifier\n"
      ]
    },
    {
      "cell_type": "code",
      "source": [
        "scaler = RobustScaler()\n",
        "caracteristicas_scaled = scaler.fit_transform(caracteristicas)\n",
        "\n",
        "\n",
        "X_train, X_test, y_train, y_test = train_test_split(caracteristicas_scaled, etiquetas, random_state =123, test_size=0.3)"
      ],
      "metadata": {
        "id": "jjEJs4SowDA-"
      },
      "execution_count": null,
      "outputs": []
    },
    {
      "cell_type": "code",
      "source": [
        "#mdl_NB = CategoricalNB()\n",
        "mdl_knn = KNeighborsClassifier(n_neighbors=5)\n",
        "mdl_svm = SVC(kernel=\"rbf\")\n",
        "mdl_tree = DecisionTreeClassifier()\n",
        "mdl_ensemble = RandomForestClassifier(random_state=0)\n",
        "mdl_bagg = BaggingClassifier()\n",
        "mdl_grad = GradientBoostingClassifier()\n",
        "mdl_His = HistGradientBoostingClassifier()\n",
        "#mdl_vot = VotingClassifier()"
      ],
      "metadata": {
        "id": "3iGMBMgdwHiF"
      },
      "execution_count": null,
      "outputs": []
    },
    {
      "cell_type": "code",
      "source": [
        "list_mdl = [ mdl_knn, mdl_svm, mdl_tree, mdl_ensemble, mdl_bagg, mdl_grad,mdl_His ]\n",
        "names_mdl = [\"knn\",\"svc\",\"tree\",\"randomforest\",\"adaboost\",\"bagging\",\"gradientBoosting\",\"histgradientBoosting\"]\n",
        "y_mdl_pred = list()"
      ],
      "metadata": {
        "id": "2_lObvZxwMGI"
      },
      "execution_count": null,
      "outputs": []
    },
    {
      "cell_type": "code",
      "source": [
        "from sklearn.model_selection import cross_val_score\n",
        "from tabulate import tabulate"
      ],
      "metadata": {
        "id": "Tb9zuf7dwTN4"
      },
      "execution_count": null,
      "outputs": []
    },
    {
      "cell_type": "code",
      "source": [
        "print(\"{:>15} {:>15}\".format(*[\"Model\",\"score\"]))\n",
        "for n, mdl in enumerate(list_mdl):\n",
        "    score = cross_val_score(mdl, caracteristicas_scaled,etiquetas, cv=5)\n",
        "    #print(names_mdl[n],\": \\t\\t\",  np.round(score.mean(),2))\n",
        "    show_values = [names_mdl[n],  np.round(score.mean(),2)]\n",
        "    print(\"{:>20} {:>20}\".format(*show_values))"
      ],
      "metadata": {
        "colab": {
          "base_uri": "https://localhost:8080/"
        },
        "id": "AKfV5cYnwVNL",
        "outputId": "d1cfaf22-9e6b-4e1d-87fc-e6e31f0d4cc5"
      },
      "execution_count": null,
      "outputs": [
        {
          "output_type": "stream",
          "name": "stdout",
          "text": [
            "          Model           score\n",
            "                 knn                 0.46\n",
            "                 svc                 0.52\n",
            "                tree                 0.47\n",
            "        randomforest                 0.47\n",
            "            adaboost                 0.42\n",
            "             bagging                 0.44\n",
            "    gradientBoosting                 0.42\n"
          ]
        }
      ]
    },
    {
      "cell_type": "code",
      "source": [
        "for mdl in list_mdl:\n",
        "    mdl.fit(X_train, y_train)\n",
        "    y_mdl_pred.append(mdl.predict(X_test))"
      ],
      "metadata": {
        "id": "FBIggCW2we7U"
      },
      "execution_count": null,
      "outputs": []
    },
    {
      "cell_type": "code",
      "source": [
        "from sklearn.metrics import accuracy_score, classification_report"
      ],
      "metadata": {
        "id": "LmOUfZFqwiUg"
      },
      "execution_count": null,
      "outputs": []
    },
    {
      "cell_type": "code",
      "source": [
        "for n,i in enumerate(y_mdl_pred):\n",
        "    print(names_mdl[n],\": \\n\", classification_report(y_test, i), '\\n')"
      ],
      "metadata": {
        "id": "uKlrbxgIwkFN",
        "outputId": "a02fe0d0-523b-4126-f5af-844aa0e82926",
        "colab": {
          "base_uri": "https://localhost:8080/"
        }
      },
      "execution_count": null,
      "outputs": [
        {
          "output_type": "stream",
          "name": "stdout",
          "text": [
            "knn : \n",
            "               precision    recall  f1-score   support\n",
            "\n",
            "           0       0.50      0.30      0.37        20\n",
            "           1       0.22      0.40      0.29        10\n",
            "\n",
            "    accuracy                           0.33        30\n",
            "   macro avg       0.36      0.35      0.33        30\n",
            "weighted avg       0.41      0.33      0.35        30\n",
            " \n",
            "\n",
            "svc : \n",
            "               precision    recall  f1-score   support\n",
            "\n",
            "           0       0.57      0.20      0.30        20\n",
            "           1       0.30      0.70      0.42        10\n",
            "\n",
            "    accuracy                           0.37        30\n",
            "   macro avg       0.44      0.45      0.36        30\n",
            "weighted avg       0.48      0.37      0.34        30\n",
            " \n",
            "\n",
            "tree : \n",
            "               precision    recall  f1-score   support\n",
            "\n",
            "           0       0.67      0.50      0.57        20\n",
            "           1       0.33      0.50      0.40        10\n",
            "\n",
            "    accuracy                           0.50        30\n",
            "   macro avg       0.50      0.50      0.49        30\n",
            "weighted avg       0.56      0.50      0.51        30\n",
            " \n",
            "\n",
            "randomforest : \n",
            "               precision    recall  f1-score   support\n",
            "\n",
            "           0       0.75      0.45      0.56        20\n",
            "           1       0.39      0.70      0.50        10\n",
            "\n",
            "    accuracy                           0.53        30\n",
            "   macro avg       0.57      0.57      0.53        30\n",
            "weighted avg       0.63      0.53      0.54        30\n",
            " \n",
            "\n",
            "adaboost : \n",
            "               precision    recall  f1-score   support\n",
            "\n",
            "           0       0.59      0.50      0.54        20\n",
            "           1       0.23      0.30      0.26        10\n",
            "\n",
            "    accuracy                           0.43        30\n",
            "   macro avg       0.41      0.40      0.40        30\n",
            "weighted avg       0.47      0.43      0.45        30\n",
            " \n",
            "\n",
            "bagging : \n",
            "               precision    recall  f1-score   support\n",
            "\n",
            "           0       0.50      0.35      0.41        20\n",
            "           1       0.19      0.30      0.23        10\n",
            "\n",
            "    accuracy                           0.33        30\n",
            "   macro avg       0.34      0.32      0.32        30\n",
            "weighted avg       0.40      0.33      0.35        30\n",
            " \n",
            "\n",
            "gradientBoosting : \n",
            "               precision    recall  f1-score   support\n",
            "\n",
            "           0       0.75      0.30      0.43        20\n",
            "           1       0.36      0.80      0.50        10\n",
            "\n",
            "    accuracy                           0.47        30\n",
            "   macro avg       0.56      0.55      0.46        30\n",
            "weighted avg       0.62      0.47      0.45        30\n",
            " \n",
            "\n"
          ]
        }
      ]
    },
    {
      "cell_type": "markdown",
      "source": [
        "Considerando esto, vemos que al usar métodos de ensemble obtenemos una precisión de hasta el 75% para la predicción de pacientes con antecedentes de Fibrilación Auricular a partir de ciertas características extraídas de sus señales ECG. "
      ],
      "metadata": {
        "id": "jypqnXk--IAD"
      }
    }
  ]
}